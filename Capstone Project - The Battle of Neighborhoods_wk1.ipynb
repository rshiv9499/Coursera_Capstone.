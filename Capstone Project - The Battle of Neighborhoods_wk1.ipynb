{
    "nbformat_minor": 1, 
    "cells": [
        {
            "source": "Capstone Project - The Battle of Neighborhoods(week#1)\n\nIntroduction\n\n\"Would you recommend a location in Chennai,India to open a new cinema with includes Multiplex IMAX Theatre?\"\n\nOne of the Business Vendor, the stakeholder wants to open a new cinema as company's new business.\nThey explains that watching movie is a part of entertainments. Cinema should has many restaurants and shopping places nearby. Transportation is also an important factor. Customer can walk to cinema within 5 minutes from public transport facilities is perfect.\nHe wants me concentrated on selection of cinema location according to its nearby environment. Cinema facility and rental price is not my concern. He lists out his top 10 favorite cinemas in Hong Kong with rating.\nI work with my teammates and select 5 possible locations to build the cinema. Which location or area or sub urban should be suggested to the stakeholder?\n", 
            "cell_type": "markdown", 
            "metadata": {
                "collapsed": true
            }
        }, 
        {
            "source": "Data where you describe the data that will be used to solve the problem and the source of the data.\n\nAccording to the question, following data are required.\n\n1. Geographic coordinate of Chennai cinemas\nI need to compare 10 possible locations with current cinemas in Chennai, Tamilnadu,India. Therefore, I need to find a list of Chennai cinema and cinemas' geographic coordinates. I can find the list and coordinates downloaded from various websites and found latitude / Longitude from https://www.latlong.net/convert-address-to-lat-long.html of each location/areas of Chennai.", 
            "cell_type": "markdown", 
            "metadata": {}
        }, 
        {
            "source": "# Import necessary library\nimport json\nimport pandas as pd", 
            "cell_type": "code", 
            "metadata": {}, 
            "outputs": [], 
            "execution_count": 10
        }, 
        {
            "source": "\nimport sys\nimport types\nimport pandas as pd\nfrom botocore.client import Config\nimport ibm_boto3\n\ndef __iter__(self): return 0\n\n# @hidden_cell\n# The following code accesses a file in your IBM Cloud Object Storage. It includes your credentials.\n# You might want to remove those credentials before you share your notebook.\nclient_04c00c8260d14c19b85a479f8f8187b0 = ibm_boto3.client(service_name='s3',\n    ibm_api_key_id='rY8AzHhGvzSG3xx8p5zTSP0qIe8Rnl-Cz7VwQQo59GnB',\n    ibm_auth_endpoint=\"https://iam.bluemix.net/oidc/token\",\n    config=Config(signature_version='oauth'),\n    endpoint_url='https://s3-api.us-geo.objectstorage.service.networklayer.com')\n\nbody = client_04c00c8260d14c19b85a479f8f8187b0.get_object(Bucket='pythoncourse-donotdelete-pr-na4wsbcsia019k',Key='cinema_coordinates.csv')['Body']\n# add missing __iter__ method, so pandas accepts body as file-like object\nif not hasattr(body, \"__iter__\"): body.__iter__ = types.MethodType( __iter__, body )\n\ndf_data_4 = pd.read_csv(body)\ndf_data_4.head()\n\n", 
            "cell_type": "code", 
            "metadata": {}, 
            "outputs": [
                {
                    "output_type": "execute_result", 
                    "data": {
                        "text/plain": "                cinema                                address         area  \\\n0    Abirami Multiplex  152  Purasaiwalkam High Road, Kilpauk      Kilpauk   \n1  Agastya Cinema Hall              232  Tondiarpet High Road   Tondiarpet   \n2  Ags Royal Multiplex                         1 Mettu Street  Villivakkam   \n3     Albert Multiplex                    13/1  Whannels Road       Egmore   \n4     Anna Cinema Hall                         21  Anna Salai   Mount Road   \n\n   pincode  latitude  longtude  rating  \n0   600010  13.08700  80.25847     4.0  \n1   600081  13.13150  80.25243     3.2  \n2   600049  13.10434  80.20805     4.1  \n3   600008  13.07813  80.26346     3.5  \n4   600002  13.00803  80.20820     3.2  ", 
                        "text/html": "<div>\n<style scoped>\n    .dataframe tbody tr th:only-of-type {\n        vertical-align: middle;\n    }\n\n    .dataframe tbody tr th {\n        vertical-align: top;\n    }\n\n    .dataframe thead th {\n        text-align: right;\n    }\n</style>\n<table border=\"1\" class=\"dataframe\">\n  <thead>\n    <tr style=\"text-align: right;\">\n      <th></th>\n      <th>cinema</th>\n      <th>address</th>\n      <th>area</th>\n      <th>pincode</th>\n      <th>latitude</th>\n      <th>longtude</th>\n      <th>rating</th>\n    </tr>\n  </thead>\n  <tbody>\n    <tr>\n      <th>0</th>\n      <td>Abirami Multiplex</td>\n      <td>152  Purasaiwalkam High Road, Kilpauk</td>\n      <td>Kilpauk</td>\n      <td>600010</td>\n      <td>13.08700</td>\n      <td>80.25847</td>\n      <td>4.0</td>\n    </tr>\n    <tr>\n      <th>1</th>\n      <td>Agastya Cinema Hall</td>\n      <td>232  Tondiarpet High Road</td>\n      <td>Tondiarpet</td>\n      <td>600081</td>\n      <td>13.13150</td>\n      <td>80.25243</td>\n      <td>3.2</td>\n    </tr>\n    <tr>\n      <th>2</th>\n      <td>Ags Royal Multiplex</td>\n      <td>1 Mettu Street</td>\n      <td>Villivakkam</td>\n      <td>600049</td>\n      <td>13.10434</td>\n      <td>80.20805</td>\n      <td>4.1</td>\n    </tr>\n    <tr>\n      <th>3</th>\n      <td>Albert Multiplex</td>\n      <td>13/1  Whannels Road</td>\n      <td>Egmore</td>\n      <td>600008</td>\n      <td>13.07813</td>\n      <td>80.26346</td>\n      <td>3.5</td>\n    </tr>\n    <tr>\n      <th>4</th>\n      <td>Anna Cinema Hall</td>\n      <td>21  Anna Salai</td>\n      <td>Mount Road</td>\n      <td>600002</td>\n      <td>13.00803</td>\n      <td>80.20820</td>\n      <td>3.2</td>\n    </tr>\n  </tbody>\n</table>\n</div>"
                    }, 
                    "execution_count": 15, 
                    "metadata": {}
                }
            ], 
            "execution_count": 15
        }, 
        {
            "source": "cinema = df_data_4", 
            "cell_type": "code", 
            "metadata": {}, 
            "outputs": [], 
            "execution_count": 17
        }, 
        {
            "source": "cinema", 
            "cell_type": "code", 
            "metadata": {}, 
            "outputs": [
                {
                    "output_type": "execute_result", 
                    "data": {
                        "text/plain": "                        cinema                                address  \\\n0            Abirami Multiplex  152  Purasaiwalkam High Road, Kilpauk   \n1          Agastya Cinema Hall              232  Tondiarpet High Road   \n2          Ags Royal Multiplex                         1 Mettu Street   \n3             Albert Multiplex                    13/1  Whannels Road   \n4             Anna Cinema Hall                         21  Anna Salai   \n5  Avm Rajeshwari Cinema Hall                            7 Arcot Road   \n6              Devi Multiplex                            48 Tnk House   \n7               Ega Multiplex              810  Poonamallee High Road   \n8            Escape Multiplex                          50 Whites Road   \n9   Ganapathy Ram Cinema Hall                101  Lattice Bridge Road   \n\n          area  pincode  latitude   longtude  rating  \n0      Kilpauk   600010  13.08700  80.258470     4.0  \n1   Tondiarpet   600081  13.13150  80.252430     3.2  \n2  Villivakkam   600049  13.10434  80.208050     4.1  \n3       Egmore   600008  13.07813  80.263460     3.5  \n4   Mount Road   600002  13.00803  80.208200     3.2  \n5   Vadapalani   600026  13.05010  80.213320     3.8  \n6   Anna Salai   600002  13.06213  80.263168     3.9  \n7      Kilpauk   600010  13.07632  80.236100     3.9  \n8   Royapettah   600014  13.05809  80.264910     4.6  \n9        Adyar   600020  13.00436  80.257130     3.0  ", 
                        "text/html": "<div>\n<style scoped>\n    .dataframe tbody tr th:only-of-type {\n        vertical-align: middle;\n    }\n\n    .dataframe tbody tr th {\n        vertical-align: top;\n    }\n\n    .dataframe thead th {\n        text-align: right;\n    }\n</style>\n<table border=\"1\" class=\"dataframe\">\n  <thead>\n    <tr style=\"text-align: right;\">\n      <th></th>\n      <th>cinema</th>\n      <th>address</th>\n      <th>area</th>\n      <th>pincode</th>\n      <th>latitude</th>\n      <th>longtude</th>\n      <th>rating</th>\n    </tr>\n  </thead>\n  <tbody>\n    <tr>\n      <th>0</th>\n      <td>Abirami Multiplex</td>\n      <td>152  Purasaiwalkam High Road, Kilpauk</td>\n      <td>Kilpauk</td>\n      <td>600010</td>\n      <td>13.08700</td>\n      <td>80.258470</td>\n      <td>4.0</td>\n    </tr>\n    <tr>\n      <th>1</th>\n      <td>Agastya Cinema Hall</td>\n      <td>232  Tondiarpet High Road</td>\n      <td>Tondiarpet</td>\n      <td>600081</td>\n      <td>13.13150</td>\n      <td>80.252430</td>\n      <td>3.2</td>\n    </tr>\n    <tr>\n      <th>2</th>\n      <td>Ags Royal Multiplex</td>\n      <td>1 Mettu Street</td>\n      <td>Villivakkam</td>\n      <td>600049</td>\n      <td>13.10434</td>\n      <td>80.208050</td>\n      <td>4.1</td>\n    </tr>\n    <tr>\n      <th>3</th>\n      <td>Albert Multiplex</td>\n      <td>13/1  Whannels Road</td>\n      <td>Egmore</td>\n      <td>600008</td>\n      <td>13.07813</td>\n      <td>80.263460</td>\n      <td>3.5</td>\n    </tr>\n    <tr>\n      <th>4</th>\n      <td>Anna Cinema Hall</td>\n      <td>21  Anna Salai</td>\n      <td>Mount Road</td>\n      <td>600002</td>\n      <td>13.00803</td>\n      <td>80.208200</td>\n      <td>3.2</td>\n    </tr>\n    <tr>\n      <th>5</th>\n      <td>Avm Rajeshwari Cinema Hall</td>\n      <td>7 Arcot Road</td>\n      <td>Vadapalani</td>\n      <td>600026</td>\n      <td>13.05010</td>\n      <td>80.213320</td>\n      <td>3.8</td>\n    </tr>\n    <tr>\n      <th>6</th>\n      <td>Devi Multiplex</td>\n      <td>48 Tnk House</td>\n      <td>Anna Salai</td>\n      <td>600002</td>\n      <td>13.06213</td>\n      <td>80.263168</td>\n      <td>3.9</td>\n    </tr>\n    <tr>\n      <th>7</th>\n      <td>Ega Multiplex</td>\n      <td>810  Poonamallee High Road</td>\n      <td>Kilpauk</td>\n      <td>600010</td>\n      <td>13.07632</td>\n      <td>80.236100</td>\n      <td>3.9</td>\n    </tr>\n    <tr>\n      <th>8</th>\n      <td>Escape Multiplex</td>\n      <td>50 Whites Road</td>\n      <td>Royapettah</td>\n      <td>600014</td>\n      <td>13.05809</td>\n      <td>80.264910</td>\n      <td>4.6</td>\n    </tr>\n    <tr>\n      <th>9</th>\n      <td>Ganapathy Ram Cinema Hall</td>\n      <td>101  Lattice Bridge Road</td>\n      <td>Adyar</td>\n      <td>600020</td>\n      <td>13.00436</td>\n      <td>80.257130</td>\n      <td>3.0</td>\n    </tr>\n  </tbody>\n</table>\n</div>"
                    }, 
                    "execution_count": 18, 
                    "metadata": {}
                }
            ], 
            "execution_count": 18
        }, 
        {
            "source": "cinema.head()", 
            "cell_type": "code", 
            "metadata": {}, 
            "outputs": [
                {
                    "output_type": "execute_result", 
                    "data": {
                        "text/plain": "                cinema                                address         area  \\\n0    Abirami Multiplex  152  Purasaiwalkam High Road, Kilpauk      Kilpauk   \n1  Agastya Cinema Hall              232  Tondiarpet High Road   Tondiarpet   \n2  Ags Royal Multiplex                         1 Mettu Street  Villivakkam   \n3     Albert Multiplex                    13/1  Whannels Road       Egmore   \n4     Anna Cinema Hall                         21  Anna Salai   Mount Road   \n\n   pincode  latitude  longtude  rating  \n0   600010  13.08700  80.25847     4.0  \n1   600081  13.13150  80.25243     3.2  \n2   600049  13.10434  80.20805     4.1  \n3   600008  13.07813  80.26346     3.5  \n4   600002  13.00803  80.20820     3.2  ", 
                        "text/html": "<div>\n<style scoped>\n    .dataframe tbody tr th:only-of-type {\n        vertical-align: middle;\n    }\n\n    .dataframe tbody tr th {\n        vertical-align: top;\n    }\n\n    .dataframe thead th {\n        text-align: right;\n    }\n</style>\n<table border=\"1\" class=\"dataframe\">\n  <thead>\n    <tr style=\"text-align: right;\">\n      <th></th>\n      <th>cinema</th>\n      <th>address</th>\n      <th>area</th>\n      <th>pincode</th>\n      <th>latitude</th>\n      <th>longtude</th>\n      <th>rating</th>\n    </tr>\n  </thead>\n  <tbody>\n    <tr>\n      <th>0</th>\n      <td>Abirami Multiplex</td>\n      <td>152  Purasaiwalkam High Road, Kilpauk</td>\n      <td>Kilpauk</td>\n      <td>600010</td>\n      <td>13.08700</td>\n      <td>80.25847</td>\n      <td>4.0</td>\n    </tr>\n    <tr>\n      <th>1</th>\n      <td>Agastya Cinema Hall</td>\n      <td>232  Tondiarpet High Road</td>\n      <td>Tondiarpet</td>\n      <td>600081</td>\n      <td>13.13150</td>\n      <td>80.25243</td>\n      <td>3.2</td>\n    </tr>\n    <tr>\n      <th>2</th>\n      <td>Ags Royal Multiplex</td>\n      <td>1 Mettu Street</td>\n      <td>Villivakkam</td>\n      <td>600049</td>\n      <td>13.10434</td>\n      <td>80.20805</td>\n      <td>4.1</td>\n    </tr>\n    <tr>\n      <th>3</th>\n      <td>Albert Multiplex</td>\n      <td>13/1  Whannels Road</td>\n      <td>Egmore</td>\n      <td>600008</td>\n      <td>13.07813</td>\n      <td>80.26346</td>\n      <td>3.5</td>\n    </tr>\n    <tr>\n      <th>4</th>\n      <td>Anna Cinema Hall</td>\n      <td>21  Anna Salai</td>\n      <td>Mount Road</td>\n      <td>600002</td>\n      <td>13.00803</td>\n      <td>80.20820</td>\n      <td>3.2</td>\n    </tr>\n  </tbody>\n</table>\n</div>"
                    }, 
                    "execution_count": 19, 
                    "metadata": {}
                }
            ], 
            "execution_count": 19
        }, 
        {
            "source": "cinema.shape", 
            "cell_type": "code", 
            "metadata": {}, 
            "outputs": [
                {
                    "output_type": "execute_result", 
                    "data": {
                        "text/plain": "(10, 7)"
                    }, 
                    "execution_count": 20, 
                    "metadata": {}
                }
            ], 
            "execution_count": 20
        }, 
        {
            "source": "Select few possible location for our assignment!", 
            "cell_type": "markdown", 
            "metadata": {}
        }, 
        {
            "source": "cinema_data = cinema.head()", 
            "cell_type": "code", 
            "metadata": {}, 
            "outputs": [], 
            "execution_count": 21
        }, 
        {
            "source": "Dataframe of 5 target locations with geographic coordinates information", 
            "cell_type": "markdown", 
            "metadata": {}
        }, 
        {
            "source": "cinema_data.shape", 
            "cell_type": "code", 
            "metadata": {}, 
            "outputs": [
                {
                    "output_type": "execute_result", 
                    "data": {
                        "text/plain": "(5, 7)"
                    }, 
                    "execution_count": 22, 
                    "metadata": {}
                }
            ], 
            "execution_count": 22
        }, 
        {
            "source": "cinema_data", 
            "cell_type": "code", 
            "metadata": {}, 
            "outputs": [
                {
                    "output_type": "execute_result", 
                    "data": {
                        "text/plain": "                cinema                                address         area  \\\n0    Abirami Multiplex  152  Purasaiwalkam High Road, Kilpauk      Kilpauk   \n1  Agastya Cinema Hall              232  Tondiarpet High Road   Tondiarpet   \n2  Ags Royal Multiplex                         1 Mettu Street  Villivakkam   \n3     Albert Multiplex                    13/1  Whannels Road       Egmore   \n4     Anna Cinema Hall                         21  Anna Salai   Mount Road   \n\n   pincode  latitude  longtude  rating  \n0   600010  13.08700  80.25847     4.0  \n1   600081  13.13150  80.25243     3.2  \n2   600049  13.10434  80.20805     4.1  \n3   600008  13.07813  80.26346     3.5  \n4   600002  13.00803  80.20820     3.2  ", 
                        "text/html": "<div>\n<style scoped>\n    .dataframe tbody tr th:only-of-type {\n        vertical-align: middle;\n    }\n\n    .dataframe tbody tr th {\n        vertical-align: top;\n    }\n\n    .dataframe thead th {\n        text-align: right;\n    }\n</style>\n<table border=\"1\" class=\"dataframe\">\n  <thead>\n    <tr style=\"text-align: right;\">\n      <th></th>\n      <th>cinema</th>\n      <th>address</th>\n      <th>area</th>\n      <th>pincode</th>\n      <th>latitude</th>\n      <th>longtude</th>\n      <th>rating</th>\n    </tr>\n  </thead>\n  <tbody>\n    <tr>\n      <th>0</th>\n      <td>Abirami Multiplex</td>\n      <td>152  Purasaiwalkam High Road, Kilpauk</td>\n      <td>Kilpauk</td>\n      <td>600010</td>\n      <td>13.08700</td>\n      <td>80.25847</td>\n      <td>4.0</td>\n    </tr>\n    <tr>\n      <th>1</th>\n      <td>Agastya Cinema Hall</td>\n      <td>232  Tondiarpet High Road</td>\n      <td>Tondiarpet</td>\n      <td>600081</td>\n      <td>13.13150</td>\n      <td>80.25243</td>\n      <td>3.2</td>\n    </tr>\n    <tr>\n      <th>2</th>\n      <td>Ags Royal Multiplex</td>\n      <td>1 Mettu Street</td>\n      <td>Villivakkam</td>\n      <td>600049</td>\n      <td>13.10434</td>\n      <td>80.20805</td>\n      <td>4.1</td>\n    </tr>\n    <tr>\n      <th>3</th>\n      <td>Albert Multiplex</td>\n      <td>13/1  Whannels Road</td>\n      <td>Egmore</td>\n      <td>600008</td>\n      <td>13.07813</td>\n      <td>80.26346</td>\n      <td>3.5</td>\n    </tr>\n    <tr>\n      <th>4</th>\n      <td>Anna Cinema Hall</td>\n      <td>21  Anna Salai</td>\n      <td>Mount Road</td>\n      <td>600002</td>\n      <td>13.00803</td>\n      <td>80.20820</td>\n      <td>3.2</td>\n    </tr>\n  </tbody>\n</table>\n</div>"
                    }, 
                    "execution_count": 23, 
                    "metadata": {}
                }
            ], 
            "execution_count": 23
        }, 
        {
            "source": "CLIENT_ID = 'V5Y0BGINSJOPOX0UHD3AB5Q5MX3QPIXGXPU2WWSXXLJG5JEW' # your Foursquare ID\nCLIENT_SECRET = 'BJ23AGC3CUGIUF5VVHCGBEPY43R2HDZORGSG30ET5IIOFSSK' # your Foursquare Secret\nVERSION = '20180605' # Foursquare API version\n\nlatitude = 13.027\nlongitude = 80.2707\n\nprint('Your credentails:')\nprint('CLIENT_ID: ' + CLIENT_ID)\nprint('CLIENT_SECRET:' + CLIENT_SECRET)", 
            "cell_type": "code", 
            "metadata": {}, 
            "outputs": [
                {
                    "output_type": "stream", 
                    "name": "stdout", 
                    "text": "Your credentails:\nCLIENT_ID: V5Y0BGINSJOPOX0UHD3AB5Q5MX3QPIXGXPU2WWSXXLJG5JEW\nCLIENT_SECRET:BJ23AGC3CUGIUF5VVHCGBEPY43R2HDZORGSG30ET5IIOFSSK\n"
                }
            ], 
            "execution_count": 24
        }, 
        {
            "source": "search_query = 'food'\nradius = 500\nVERSION = '20180604'\nLIMIT = 30\nprint(search_query + ' .... OK!')", 
            "cell_type": "code", 
            "metadata": {}, 
            "outputs": [
                {
                    "output_type": "stream", 
                    "name": "stdout", 
                    "text": "food .... OK!\n"
                }
            ], 
            "execution_count": 25
        }, 
        {
            "source": "url = 'https://api.foursquare.com/v2/venues/search?client_id={}&client_secret={}&ll={},{}&v={}&query={}&radius={}&limit={}'.format(CLIENT_ID, CLIENT_SECRET, latitude, longitude, VERSION, search_query, radius, LIMIT)\nurl", 
            "cell_type": "code", 
            "metadata": {}, 
            "outputs": [
                {
                    "output_type": "execute_result", 
                    "data": {
                        "text/plain": "'https://api.foursquare.com/v2/venues/search?client_id=V5Y0BGINSJOPOX0UHD3AB5Q5MX3QPIXGXPU2WWSXXLJG5JEW&client_secret=BJ23AGC3CUGIUF5VVHCGBEPY43R2HDZORGSG30ET5IIOFSSK&ll=13.027,80.2707&v=20180604&query=food&radius=500&limit=30'"
                    }, 
                    "execution_count": 26, 
                    "metadata": {}
                }
            ], 
            "execution_count": 26
        }, 
        {
            "source": "4. Eatout,Hotel, food facility around cinema\nThe recommended cinema location needs to have many eating and shopping venues nearby. Convenient public transport is also required.\nThese data can be found by using FourSquare API to find these venues around the location. The radius of exploration distance is set to 500 meters, which is about 5-10 minutes walking distance.\n\nFollowing type of venue category will be used to search", 
            "cell_type": "markdown", 
            "metadata": {}
        }, 
        {
            "source": "import requests\nresults = requests.get(url).json()\nresults", 
            "cell_type": "code", 
            "metadata": {}, 
            "outputs": [
                {
                    "output_type": "execute_result", 
                    "data": {
                        "text/plain": "{'meta': {'code': 200, 'requestId': '5c08e854f594df18feae4281'},\n 'response': {'venues': [{'categories': [{'icon': {'prefix': 'https://ss3.4sqi.net/img/categories_v2/food/fastfood_',\n       'suffix': '.png'},\n      'id': '4bf58dd8d48988d16e941735',\n      'name': 'Fast Food Restaurant',\n      'pluralName': 'Fast Food Restaurants',\n      'primary': True,\n      'shortName': 'Fast Food'}],\n    'hasPerk': False,\n    'id': '50a918e7e4b041e7e1d22009',\n    'location': {'address': '3/2',\n     'cc': 'IN',\n     'city': 'Chennai',\n     'country': 'India',\n     'crossStreet': 'West Circular Road',\n     'distance': 243,\n     'formattedAddress': ['3/2 (West Circular Road)',\n      'Chennai 600028',\n      'Tamil Nadu',\n      'India'],\n     'labeledLatLngs': [{'label': 'display',\n       'lat': 13.028611,\n       'lng': 80.272222}],\n     'lat': 13.028611,\n     'lng': 80.272222,\n     'postalCode': '600028',\n     'state': 'Tamil Nadu'},\n    'name': \"Varni's Food Court\",\n    'referralId': 'v-1544087636'},\n   {'categories': [{'icon': {'prefix': 'https://ss3.4sqi.net/img/categories_v2/food/fastfood_',\n       'suffix': '.png'},\n      'id': '4bf58dd8d48988d16e941735',\n      'name': 'Fast Food Restaurant',\n      'pluralName': 'Fast Food Restaurants',\n      'primary': True,\n      'shortName': 'Fast Food'}],\n    'hasPerk': False,\n    'id': '4e52605122710da1b3dd0c35',\n    'location': {'cc': 'IN',\n     'city': 'Chennai',\n     'country': 'India',\n     'crossStreet': 'Mylapore',\n     'distance': 566,\n     'formattedAddress': ['Mylapore', 'Chennai', 'Tamil Nadu', 'India'],\n     'labeledLatLngs': [{'label': 'display',\n       'lat': 13.032083016886196,\n       'lng': 80.27100915219074}],\n     'lat': 13.032083016886196,\n     'lng': 80.27100915219074,\n     'state': 'Tamil Nadu'},\n    'name': 'Sri Kalathi Fast Food',\n    'referralId': 'v-1544087636'},\n   {'categories': [{'icon': {'prefix': 'https://ss3.4sqi.net/img/categories_v2/food/fastfood_',\n       'suffix': '.png'},\n      'id': '4bf58dd8d48988d16e941735',\n      'name': 'Fast Food Restaurant',\n      'pluralName': 'Fast Food Restaurants',\n      'primary': True,\n      'shortName': 'Fast Food'}],\n    'hasPerk': False,\n    'id': '50292020e4b023558882bc4f',\n    'location': {'address': 'Madha Church Road',\n     'cc': 'IN',\n     'city': 'Chennai',\n     'country': 'India',\n     'distance': 277,\n     'formattedAddress': ['Madha Church Road',\n      'Chennai 600028',\n      'Tamil Nadu',\n      'India'],\n     'labeledLatLngs': [{'label': 'display',\n       'lat': 13.029295009871863,\n       'lng': 80.27170046655459}],\n     'lat': 13.029295009871863,\n     'lng': 80.27170046655459,\n     'postalCode': '600028',\n     'state': 'Tamil Nadu'},\n    'name': 'Anbhu Fast Food',\n    'referralId': 'v-1544087636'},\n   {'categories': [{'icon': {'prefix': 'https://ss3.4sqi.net/img/categories_v2/food/indian_',\n       'suffix': '.png'},\n      'id': '4bf58dd8d48988d10f941735',\n      'name': 'Indian Restaurant',\n      'pluralName': 'Indian Restaurants',\n      'primary': True,\n      'shortName': 'Indian'}],\n    'hasPerk': False,\n    'id': '4d00c19a1fcef04db82eccb9',\n    'location': {'address': 'Karpagam Avenue',\n     'cc': 'IN',\n     'city': 'Chennai',\n     'country': 'India',\n     'distance': 591,\n     'formattedAddress': ['Karpagam Avenue', 'Chennai', 'Tamil Nadu', 'India'],\n     'labeledLatLngs': [{'label': 'display',\n       'lat': 13.022413314550983,\n       'lng': 80.26793899501193}],\n     'lat': 13.022413314550983,\n     'lng': 80.26793899501193,\n     'state': 'Tamil Nadu'},\n    'name': 'S. R. Foods',\n    'referralId': 'v-1544087636'}]}}"
                    }, 
                    "execution_count": 27, 
                    "metadata": {}
                }
            ], 
            "execution_count": 27
        }, 
        {
            "source": "import numpy as np # library to handle data in a vectorized manner\n\nimport pandas as pd # library for data analsysis\npd.set_option('display.max_columns', None)\npd.set_option('display.max_rows', None)\n\nimport json # library to handle JSON files\n\n!conda install -c conda-forge geopy --yes # uncomment this line if you haven't completed the Foursquare API lab\nfrom geopy.geocoders import Nominatim # convert an address into latitude and longitude values\n\nimport requests # library to handle requests\nfrom pandas.io.json import json_normalize # tranform JSON file into a pandas dataframe\n\n# Matplotlib and associated plotting modules\nimport matplotlib.cm as cm\nimport matplotlib.colors as colors\n\n# import k-means from clustering stage\nfrom sklearn.cluster import KMeans\n\n!conda install -c conda-forge folium=0.5.0 --yes # uncomment this line if you haven't completed the Foursquare API lab\nimport folium # map rendering library\n\nprint('Libraries imported.')", 
            "cell_type": "code", 
            "metadata": {}, 
            "outputs": [
                {
                    "output_type": "stream", 
                    "name": "stdout", 
                    "text": "Fetching package metadata .............\nSolving package specifications: .\n\nPackage plan for installation in environment /opt/conda/envs/DSX-Python35:\n\nThe following NEW packages will be INSTALLED:\n\n    geographiclib: 1.49-py_0   conda-forge\n    geopy:         1.17.0-py_0 conda-forge\n\ngeographiclib- 100% |################################| Time: 0:00:00  20.67 MB/s\ngeopy-1.17.0-p 100% |################################| Time: 0:00:00  28.83 MB/s\nFetching package metadata .............\nSolving package specifications: .\n\nPackage plan for installation in environment /opt/conda/envs/DSX-Python35:\n\nThe following NEW packages will be INSTALLED:\n\n    altair:  2.2.2-py35_1 conda-forge\n    branca:  0.3.1-py_0   conda-forge\n    folium:  0.5.0-py_0   conda-forge\n    vincent: 0.4.4-py_1   conda-forge\n\naltair-2.2.2-p 100% |################################| Time: 0:00:00  46.94 MB/s\nbranca-0.3.1-p 100% |################################| Time: 0:00:00  29.88 MB/s\nvincent-0.4.4- 100% |################################| Time: 0:00:00  32.18 MB/s\nfolium-0.5.0-p 100% |################################| Time: 0:00:00  40.65 MB/s\nLibraries imported.\n"
                }
            ], 
            "execution_count": 32
        }, 
        {
            "source": "favorite = [\n    {'Name': 'Abirami Multiplex', 'Rating': 4.0},\n    {'Name': 'Agastya Cinema Hall', 'Rating': 3.2},\n    {'Name': 'Ags Royal Multiplex', 'Rating': 4.1},\n    {'Name': 'Albert Multiplex', 'Rating': 3.5},\n    {'Name': 'Anna Cinema Hall', 'Rating': 3.2},\n   \n]\n\nfavorite = pd.DataFrame(favorite, columns=['Name','Rating'])\nfavorite\n", 
            "cell_type": "code", 
            "metadata": {}, 
            "outputs": [
                {
                    "output_type": "execute_result", 
                    "data": {
                        "text/plain": "                  Name  Rating\n0    Abirami Multiplex     4.0\n1  Agastya Cinema Hall     3.2\n2  Ags Royal Multiplex     4.1\n3     Albert Multiplex     3.5\n4     Anna Cinema Hall     3.2", 
                        "text/html": "<div>\n<style scoped>\n    .dataframe tbody tr th:only-of-type {\n        vertical-align: middle;\n    }\n\n    .dataframe tbody tr th {\n        vertical-align: top;\n    }\n\n    .dataframe thead th {\n        text-align: right;\n    }\n</style>\n<table border=\"1\" class=\"dataframe\">\n  <thead>\n    <tr style=\"text-align: right;\">\n      <th></th>\n      <th>Name</th>\n      <th>Rating</th>\n    </tr>\n  </thead>\n  <tbody>\n    <tr>\n      <th>0</th>\n      <td>Abirami Multiplex</td>\n      <td>4.0</td>\n    </tr>\n    <tr>\n      <th>1</th>\n      <td>Agastya Cinema Hall</td>\n      <td>3.2</td>\n    </tr>\n    <tr>\n      <th>2</th>\n      <td>Ags Royal Multiplex</td>\n      <td>4.1</td>\n    </tr>\n    <tr>\n      <th>3</th>\n      <td>Albert Multiplex</td>\n      <td>3.5</td>\n    </tr>\n    <tr>\n      <th>4</th>\n      <td>Anna Cinema Hall</td>\n      <td>3.2</td>\n    </tr>\n  </tbody>\n</table>\n</div>"
                    }, 
                    "execution_count": 31, 
                    "metadata": {}
                }
            ], 
            "execution_count": 31
        }, 
        {
            "source": "# assign relevant part of JSON to venues\nvenues = results['response']['venues']\n\n# tranform venues into a dataframe\ndataframe = json_normalize(venues)\ndataframe.head(10)", 
            "cell_type": "code", 
            "metadata": {}, 
            "outputs": [
                {
                    "output_type": "execute_result", 
                    "data": {
                        "text/plain": "                                          categories  hasPerk  \\\n0  [{'pluralName': 'Fast Food Restaurants', 'shor...    False   \n1  [{'pluralName': 'Fast Food Restaurants', 'shor...    False   \n2  [{'pluralName': 'Fast Food Restaurants', 'shor...    False   \n3  [{'pluralName': 'Indian Restaurants', 'shortNa...    False   \n\n                         id   location.address location.cc location.city  \\\n0  50a918e7e4b041e7e1d22009                3/2          IN       Chennai   \n1  4e52605122710da1b3dd0c35                NaN          IN       Chennai   \n2  50292020e4b023558882bc4f  Madha Church Road          IN       Chennai   \n3  4d00c19a1fcef04db82eccb9    Karpagam Avenue          IN       Chennai   \n\n  location.country location.crossStreet  location.distance  \\\n0            India   West Circular Road                243   \n1            India             Mylapore                566   \n2            India                  NaN                277   \n3            India                  NaN                591   \n\n                           location.formattedAddress  \\\n0  [3/2 (West Circular Road), Chennai 600028, Tam...   \n1             [Mylapore, Chennai, Tamil Nadu, India]   \n2  [Madha Church Road, Chennai 600028, Tamil Nadu...   \n3      [Karpagam Avenue, Chennai, Tamil Nadu, India]   \n\n                             location.labeledLatLngs  location.lat  \\\n0  [{'label': 'display', 'lat': 13.028611, 'lng':...     13.028611   \n1  [{'label': 'display', 'lat': 13.03208301688619...     13.032083   \n2  [{'label': 'display', 'lat': 13.02929500987186...     13.029295   \n3  [{'label': 'display', 'lat': 13.02241331455098...     13.022413   \n\n   location.lng location.postalCode location.state                   name  \\\n0     80.272222              600028     Tamil Nadu     Varni's Food Court   \n1     80.271009                 NaN     Tamil Nadu  Sri Kalathi Fast Food   \n2     80.271700              600028     Tamil Nadu        Anbhu Fast Food   \n3     80.267939                 NaN     Tamil Nadu            S. R. Foods   \n\n     referralId  \n0  v-1544087636  \n1  v-1544087636  \n2  v-1544087636  \n3  v-1544087636  ", 
                        "text/html": "<div>\n<style scoped>\n    .dataframe tbody tr th:only-of-type {\n        vertical-align: middle;\n    }\n\n    .dataframe tbody tr th {\n        vertical-align: top;\n    }\n\n    .dataframe thead th {\n        text-align: right;\n    }\n</style>\n<table border=\"1\" class=\"dataframe\">\n  <thead>\n    <tr style=\"text-align: right;\">\n      <th></th>\n      <th>categories</th>\n      <th>hasPerk</th>\n      <th>id</th>\n      <th>location.address</th>\n      <th>location.cc</th>\n      <th>location.city</th>\n      <th>location.country</th>\n      <th>location.crossStreet</th>\n      <th>location.distance</th>\n      <th>location.formattedAddress</th>\n      <th>location.labeledLatLngs</th>\n      <th>location.lat</th>\n      <th>location.lng</th>\n      <th>location.postalCode</th>\n      <th>location.state</th>\n      <th>name</th>\n      <th>referralId</th>\n    </tr>\n  </thead>\n  <tbody>\n    <tr>\n      <th>0</th>\n      <td>[{'pluralName': 'Fast Food Restaurants', 'shor...</td>\n      <td>False</td>\n      <td>50a918e7e4b041e7e1d22009</td>\n      <td>3/2</td>\n      <td>IN</td>\n      <td>Chennai</td>\n      <td>India</td>\n      <td>West Circular Road</td>\n      <td>243</td>\n      <td>[3/2 (West Circular Road), Chennai 600028, Tam...</td>\n      <td>[{'label': 'display', 'lat': 13.028611, 'lng':...</td>\n      <td>13.028611</td>\n      <td>80.272222</td>\n      <td>600028</td>\n      <td>Tamil Nadu</td>\n      <td>Varni's Food Court</td>\n      <td>v-1544087636</td>\n    </tr>\n    <tr>\n      <th>1</th>\n      <td>[{'pluralName': 'Fast Food Restaurants', 'shor...</td>\n      <td>False</td>\n      <td>4e52605122710da1b3dd0c35</td>\n      <td>NaN</td>\n      <td>IN</td>\n      <td>Chennai</td>\n      <td>India</td>\n      <td>Mylapore</td>\n      <td>566</td>\n      <td>[Mylapore, Chennai, Tamil Nadu, India]</td>\n      <td>[{'label': 'display', 'lat': 13.03208301688619...</td>\n      <td>13.032083</td>\n      <td>80.271009</td>\n      <td>NaN</td>\n      <td>Tamil Nadu</td>\n      <td>Sri Kalathi Fast Food</td>\n      <td>v-1544087636</td>\n    </tr>\n    <tr>\n      <th>2</th>\n      <td>[{'pluralName': 'Fast Food Restaurants', 'shor...</td>\n      <td>False</td>\n      <td>50292020e4b023558882bc4f</td>\n      <td>Madha Church Road</td>\n      <td>IN</td>\n      <td>Chennai</td>\n      <td>India</td>\n      <td>NaN</td>\n      <td>277</td>\n      <td>[Madha Church Road, Chennai 600028, Tamil Nadu...</td>\n      <td>[{'label': 'display', 'lat': 13.02929500987186...</td>\n      <td>13.029295</td>\n      <td>80.271700</td>\n      <td>600028</td>\n      <td>Tamil Nadu</td>\n      <td>Anbhu Fast Food</td>\n      <td>v-1544087636</td>\n    </tr>\n    <tr>\n      <th>3</th>\n      <td>[{'pluralName': 'Indian Restaurants', 'shortNa...</td>\n      <td>False</td>\n      <td>4d00c19a1fcef04db82eccb9</td>\n      <td>Karpagam Avenue</td>\n      <td>IN</td>\n      <td>Chennai</td>\n      <td>India</td>\n      <td>NaN</td>\n      <td>591</td>\n      <td>[Karpagam Avenue, Chennai, Tamil Nadu, India]</td>\n      <td>[{'label': 'display', 'lat': 13.02241331455098...</td>\n      <td>13.022413</td>\n      <td>80.267939</td>\n      <td>NaN</td>\n      <td>Tamil Nadu</td>\n      <td>S. R. Foods</td>\n      <td>v-1544087636</td>\n    </tr>\n  </tbody>\n</table>\n</div>"
                    }, 
                    "execution_count": 33, 
                    "metadata": {}
                }
            ], 
            "execution_count": 33
        }, 
        {
            "source": "Methodology\n\nMethodology section which represents the main component of the report where you discuss and describe any exploratory data analysis that you did, any inferential statistical testing that you performed, and what machine learnings were used and why.\n\nWith above data, I can use content-based recommendation technique to resolve the problem.\nCombine with FourSquare API which provides how many venues in different category of Hong Kong cinemas, a matrix which captured characteristic of venues nearby cinema are built. Stakeholder's favorite list is the profile to combine with the matrix to become a weighted matrix of favorite cinema.\nThe weighted matrix can be applied on 5 target locations with venues information to generate a ranking result. The the top one on the ranking list can be recommended to the stakeholder.\nBefore building the matrix, I have to prepare the required data and apply some data analysis.", 
            "cell_type": "markdown", 
            "metadata": {}
        }, 
        {
            "source": "favorite", 
            "cell_type": "code", 
            "metadata": {}, 
            "outputs": [
                {
                    "output_type": "execute_result", 
                    "data": {
                        "text/plain": "                  Name  Rating\n0    Abirami Multiplex     4.0\n1  Agastya Cinema Hall     3.2\n2  Ags Royal Multiplex     4.1\n3     Albert Multiplex     3.5\n4     Anna Cinema Hall     3.2", 
                        "text/html": "<div>\n<style scoped>\n    .dataframe tbody tr th:only-of-type {\n        vertical-align: middle;\n    }\n\n    .dataframe tbody tr th {\n        vertical-align: top;\n    }\n\n    .dataframe thead th {\n        text-align: right;\n    }\n</style>\n<table border=\"1\" class=\"dataframe\">\n  <thead>\n    <tr style=\"text-align: right;\">\n      <th></th>\n      <th>Name</th>\n      <th>Rating</th>\n    </tr>\n  </thead>\n  <tbody>\n    <tr>\n      <th>0</th>\n      <td>Abirami Multiplex</td>\n      <td>4.0</td>\n    </tr>\n    <tr>\n      <th>1</th>\n      <td>Agastya Cinema Hall</td>\n      <td>3.2</td>\n    </tr>\n    <tr>\n      <th>2</th>\n      <td>Ags Royal Multiplex</td>\n      <td>4.1</td>\n    </tr>\n    <tr>\n      <th>3</th>\n      <td>Albert Multiplex</td>\n      <td>3.5</td>\n    </tr>\n    <tr>\n      <th>4</th>\n      <td>Anna Cinema Hall</td>\n      <td>3.2</td>\n    </tr>\n  </tbody>\n</table>\n</div>"
                    }, 
                    "execution_count": 34, 
                    "metadata": {}
                }
            ], 
            "execution_count": 34
        }, 
        {
            "source": "Results\n\nResults section where you discuss the results.\n\nWith the boss's profile and the complete list of cinemas and their venues count in hand, I am going to take the weighted average of every lcoation based on the profile and recommend the top location that most satisfy it.", 
            "cell_type": "markdown", 
            "metadata": {}
        }, 
        {
            "source": "favorite.mean().to_frame(name='Average Count')", 
            "cell_type": "code", 
            "metadata": {}, 
            "outputs": [
                {
                    "output_type": "execute_result", 
                    "data": {
                        "text/plain": "        Average Count\nRating            3.6", 
                        "text/html": "<div>\n<style scoped>\n    .dataframe tbody tr th:only-of-type {\n        vertical-align: middle;\n    }\n\n    .dataframe tbody tr th {\n        vertical-align: top;\n    }\n\n    .dataframe thead th {\n        text-align: right;\n    }\n</style>\n<table border=\"1\" class=\"dataframe\">\n  <thead>\n    <tr style=\"text-align: right;\">\n      <th></th>\n      <th>Average Count</th>\n    </tr>\n  </thead>\n  <tbody>\n    <tr>\n      <th>Rating</th>\n      <td>3.6</td>\n    </tr>\n  </tbody>\n</table>\n</div>"
                    }, 
                    "execution_count": 35, 
                    "metadata": {}
                }
            ], 
            "execution_count": 35
        }, 
        {
            "source": "favorite.describe()", 
            "cell_type": "code", 
            "metadata": {}, 
            "outputs": [
                {
                    "output_type": "execute_result", 
                    "data": {
                        "text/plain": "         Rating\ncount  5.000000\nmean   3.600000\nstd    0.430116\nmin    3.200000\n25%    3.200000\n50%    3.500000\n75%    4.000000\nmax    4.100000", 
                        "text/html": "<div>\n<style scoped>\n    .dataframe tbody tr th:only-of-type {\n        vertical-align: middle;\n    }\n\n    .dataframe tbody tr th {\n        vertical-align: top;\n    }\n\n    .dataframe thead th {\n        text-align: right;\n    }\n</style>\n<table border=\"1\" class=\"dataframe\">\n  <thead>\n    <tr style=\"text-align: right;\">\n      <th></th>\n      <th>Rating</th>\n    </tr>\n  </thead>\n  <tbody>\n    <tr>\n      <th>count</th>\n      <td>5.000000</td>\n    </tr>\n    <tr>\n      <th>mean</th>\n      <td>3.600000</td>\n    </tr>\n    <tr>\n      <th>std</th>\n      <td>0.430116</td>\n    </tr>\n    <tr>\n      <th>min</th>\n      <td>3.200000</td>\n    </tr>\n    <tr>\n      <th>25%</th>\n      <td>3.200000</td>\n    </tr>\n    <tr>\n      <th>50%</th>\n      <td>3.500000</td>\n    </tr>\n    <tr>\n      <th>75%</th>\n      <td>4.000000</td>\n    </tr>\n    <tr>\n      <th>max</th>\n      <td>4.100000</td>\n    </tr>\n  </tbody>\n</table>\n</div>"
                    }, 
                    "execution_count": 37, 
                    "metadata": {}
                }
            ], 
            "execution_count": 37
        }, 
        {
            "source": "", 
            "cell_type": "code", 
            "metadata": {}, 
            "outputs": [], 
            "execution_count": null
        }
    ], 
    "metadata": {
        "kernelspec": {
            "display_name": "Python 3.5", 
            "name": "python3", 
            "language": "python"
        }, 
        "language_info": {
            "mimetype": "text/x-python", 
            "nbconvert_exporter": "python", 
            "version": "3.5.5", 
            "name": "python", 
            "pygments_lexer": "ipython3", 
            "file_extension": ".py", 
            "codemirror_mode": {
                "version": 3, 
                "name": "ipython"
            }
        }
    }, 
    "nbformat": 4
}